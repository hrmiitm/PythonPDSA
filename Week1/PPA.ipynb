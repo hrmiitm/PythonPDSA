{
 "cells": [
  {
   "cell_type": "markdown",
   "metadata": {},
   "source": [
    "# PPA1 - Twin_Primes(n, m)\n",
    "\n",
    "Twin primes are pairs of prime numbers that differ by 2. For example (3, 5), (5, 7), and (11,13) are twin primes.\n",
    "\n",
    "Write a function Twin_Primes(n, m) where n and m are positive integers and n < m , that returns all unique twin primes between m and n (both inclusive). The function returns a list of tuples and each tuple (a,b) represents one unique twin prime where n <= a < b <= m."
   ]
  },
  {
   "cell_type": "code",
   "execution_count": 22,
   "metadata": {},
   "outputs": [],
   "source": [
    "def isPrime(num):\n",
    "    if num<2: return False\n",
    "    if num==2: return True\n",
    "    for i in range(2, int(num**0.5)+1):\n",
    "        if num%i == 0: return False\n",
    "    return True\n",
    "\n",
    "def isTwinPrimes(n,m):\n",
    "    return isPrime(n) and isPrime(m)\n",
    "\n",
    "def Twin_Primes(n,m):\n",
    "    assert n<m and n>0 and m>0\n",
    "\n",
    "    twinprimes_list = []\n",
    "    for i in range(n, m+1-2):\n",
    "        if isTwinPrimes(i, i+2):\n",
    "            twinprimes_list.append((i,i+2))\n",
    "    return twinprimes_list"
   ]
  },
  {
   "cell_type": "code",
   "execution_count": 23,
   "metadata": {},
   "outputs": [
    {
     "name": "stdout",
     "output_type": "stream",
     "text": [
      "[(3, 5), (5, 7), (11, 13)]\n",
      "[(11, 13), (17, 19)]\n",
      "[(5, 7), (11, 13), (17, 19), (29, 31), (41, 43)]\n",
      "[(3, 5), (5, 7), (11, 13), (17, 19), (29, 31), (41, 43), (59, 61), (71, 73)]\n",
      "[(71, 73), (101, 103), (107, 109), (137, 139), (149, 151), (179, 181), (191, 193), (197, 199)]\n",
      "[(59, 61), (71, 73)]\n",
      "[(17, 19)]\n"
     ]
    }
   ],
   "source": [
    "print(Twin_Primes(1,15)) # [(3, 5), (5, 7), (11, 13)]\n",
    "print(Twin_Primes(11,25)) # [(11, 13), (17, 19)]\n",
    "print(Twin_Primes(5,50)) # [(5, 7), (11, 13), (17, 19), (29, 31), (41, 43)]\n",
    "print(Twin_Primes(1,100)) # [(3, 5), (5, 7), (11, 13), (17, 19), (29, 31), (41, 43), (59, 61), (71, 73)]\n",
    "print(Twin_Primes(60,200)) # [(71, 73), (101, 103), (107, 109), (137, 139), (149, 151), (179, 181), (191, 193), (197, 199)]\n",
    "print(Twin_Primes(50,73)) # [(59, 61), (71, 73)]\n",
    "print(Twin_Primes(17,19)) # [(17, 19)]"
   ]
  },
  {
   "cell_type": "code",
   "execution_count": 24,
   "metadata": {},
   "outputs": [
    {
     "name": "stdout",
     "output_type": "stream",
     "text": [
      "True\n",
      "True\n",
      "True\n",
      "True\n",
      "True\n",
      "True\n",
      "True\n"
     ]
    }
   ],
   "source": [
    "print(Twin_Primes(1,15) == [(3, 5), (5, 7), (11, 13)])\n",
    "print(Twin_Primes(11,25) == [(11, 13), (17, 19)])\n",
    "print(Twin_Primes(5,50) == [(5, 7), (11, 13), (17, 19), (29, 31), (41, 43)])\n",
    "print(Twin_Primes(1,100) == [(3, 5), (5, 7), (11, 13), (17, 19), (29, 31), (41, 43), (59, 61), (71, 73)])\n",
    "print(Twin_Primes(60,200) == [(71, 73), (101, 103), (107, 109), (137, 139), (149, 151), (179, 181), (191, 193), (197, 199)])\n",
    "print(Twin_Primes(50,73) == [(59, 61), (71, 73)])\n",
    "print(Twin_Primes(17,19) == [(17, 19)])"
   ]
  },
  {
   "cell_type": "markdown",
   "metadata": {},
   "source": [
    "# PPA2 - Triangle Class  \n",
    "Is_valid() ==> a+b>c  \n",
    "Side_Classification() ==> equilateral, isosceles, scalene  \n",
    "Angle_Classification() ==> Accute, Obtuse, Right  \n",
    "Area() ==> sqrt(s(s-a)(s-b)(s-c)), s=semi-perimeter  "
   ]
  },
  {
   "cell_type": "code",
   "execution_count": 1,
   "metadata": {},
   "outputs": [],
   "source": [
    "class Triangle:\n",
    "    def __init__(self, a, b, c):\n",
    "        self.a, self.b, self.c = a, b, c\n",
    "\n",
    "    def Is_valid(self):\n",
    "        a,b,c = self.a, self.b, self.c\n",
    "        return True if a+b>c and b+c>a and c+a>b else False\n",
    "    \n",
    "    def Side_Classification(self):\n",
    "        a,b,c = self.a, self.b, self.c\n",
    "        if self.Is_valid():\n",
    "            if a==b and b==c: return 'equilateral'\n",
    "            elif a==b or b==c or a==c: return 'isosceles'\n",
    "            else: return 'scalene'\n",
    "        return 'Invalid'\n",
    "    \n",
    "    def Angle_Classification(self):\n",
    "        a,b,c = self.a, self.b, self.c\n",
    "        if self.Is_valid():\n",
    "            if a*a + b*b == c*c or b*b + c*c == a*a or c*c + a*a == b*b: return 'Right'\n",
    "            if a*a + b*b > c*c or b*b + c*c > a*a or c*c + a*a > b*b: return 'Obtuse'\n",
    "            else: return 'Acute' \n",
    "        return 'Invalid'\n",
    "\n",
    "    def Area(self):\n",
    "        a,b,c = self.a, self.b, self.c\n",
    "        if self.Is_valid():\n",
    "            s = (a+b+c)/2\n",
    "            a = (s*(s-a)*(s-b)*(s-c))**0.5\n",
    "            return a\n",
    "        return 'Invalid'"
   ]
  },
  {
   "cell_type": "code",
   "execution_count": 2,
   "metadata": {},
   "outputs": [
    {
     "name": "stdout",
     "output_type": "stream",
     "text": [
      "True scalene Obtuse 2.9047375096555625\n",
      "False Invalid Invalid Invalid\n",
      "True equilateral Obtuse 10.825317547305483\n",
      "False Invalid Invalid Invalid\n",
      "True scalene Obtuse 29.230762904857617\n",
      "True scalene Obtuse 61.89456761299815\n",
      "True isosceles Obtuse 24.206145913796355\n",
      "True scalene Right 6.0\n"
     ]
    }
   ],
   "source": [
    "def test(a,b,c):\n",
    "    T=Triangle(a,b,c)\n",
    "    print(T.Is_valid(), T.Side_Classification(), T.Angle_Classification(), T.Area())\n",
    "\n",
    "test(2,3,4)\n",
    "test(10,3,5)\n",
    "test(5,5,5)\n",
    "test(2,12,3)\n",
    "test(14,5,12)\n",
    "test(32,12,21)\n",
    "test(10,10,5)\n",
    "test(3,4,5)"
   ]
  },
  {
   "cell_type": "code",
   "execution_count": null,
   "metadata": {},
   "outputs": [],
   "source": []
  }
 ],
 "metadata": {
  "kernelspec": {
   "display_name": "base",
   "language": "python",
   "name": "python3"
  },
  "language_info": {
   "codemirror_mode": {
    "name": "ipython",
    "version": 3
   },
   "file_extension": ".py",
   "mimetype": "text/x-python",
   "name": "python",
   "nbconvert_exporter": "python",
   "pygments_lexer": "ipython3",
   "version": "3.12.4"
  }
 },
 "nbformat": 4,
 "nbformat_minor": 2
}
